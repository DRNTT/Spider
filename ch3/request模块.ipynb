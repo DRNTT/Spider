{
 "cells": [
  {
   "cell_type": "markdown",
   "metadata": {},
   "source": [
    "# request模块"
   ]
  },
  {
   "cell_type": "markdown",
   "metadata": {},
   "source": [
    "## 1、基本使用\n",
    "\n",
    "urllib模块中请求网页使用urlopen()方法，而在requests模块中相应方法为get()。\n",
    "其他请求例如post, put等，直接改变方法即可。"
   ]
  },
  {
   "cell_type": "code",
   "execution_count": null,
   "metadata": {},
   "outputs": [],
   "source": [
    "import requests\n",
    "\n",
    "r = requests.get('https://www.baidu.com/')\n",
    "print(type(r))\n",
    "print(r.status_code)\n",
    "print(type(r.text))\n",
    "print(r.text)\n",
    "print(r.cookies)"
   ]
  },
  {
   "cell_type": "markdown",
   "metadata": {},
   "source": [
    "## 2、GET请求\n",
    "\n",
    "如果需要额外参数，除了直接添加在url后，还可以直接使用字典，比urllib中通过字典转化为bytes类型方便的多。"
   ]
  },
  {
   "cell_type": "code",
   "execution_count": null,
   "metadata": {},
   "outputs": [],
   "source": [
    "import requests\n",
    "\n",
    "data = {\n",
    "    'name': 'laowang',\n",
    "    'age': 22\n",
    "}\n",
    "r = requests.get('http://httpbin.org/get', params=data)\n",
    "print(r.text)\n",
    "# 这里r.text为str类型。\n",
    "print(type(r.text))\n",
    "# 使用json方法转化为字典类型\n",
    "print(r.json())\n",
    "print(type(r.json()))\n",
    "# 需要注意的是，若返回结果不是json类型，则会报错。"
   ]
  },
  {
   "cell_type": "markdown",
   "metadata": {},
   "source": [
    "### 2.1 抓取网页"
   ]
  },
  {
   "cell_type": "code",
   "execution_count": null,
   "metadata": {},
   "outputs": [],
   "source": [
    "import requests\n",
    "# 正则模块\n",
    "import re\n",
    "\n",
    "headers = {\n",
    "    'User-Agent': 'Mozilla/5.0 (Windows NT 10.0; WOW64) AppleWebKit/537.36 (KHTML, like Gecko) Chrome/74.0.3729.131 Safari/537.36'\n",
    "}\n",
    "r = requests.get('https://www.zhihu.com/explore', headers=headers)\n",
    "pattern = re.compile('explore-feed.*?question_link.*?>(.*?)</a>', re.S)\n",
    "titles = re.findall(pattern, r.text)\n",
    "print(titles)"
   ]
  },
  {
   "cell_type": "markdown",
   "metadata": {},
   "source": [
    "### 2.2 抓取二进制数据\n",
    "\n",
    "以下方法同样适用于音频，视频文件。"
   ]
  },
  {
   "cell_type": "code",
   "execution_count": null,
   "metadata": {},
   "outputs": [],
   "source": [
    "import requests\n",
    "\n",
    "r = requests.get('https://github.com/favicon.ico')\n",
    "print(r.text)\n",
    "print(r.content)\n",
    "\n",
    "# 第一个参数为文件名称，第二个参数为二进制写形式打开\n",
    "with open('favicon.ico', 'wb') as f:\n",
    "    f.write(r.content)"
   ]
  },
  {
   "cell_type": "markdown",
   "metadata": {},
   "source": [
    "![image](https://github.com/DRNTT/SpiderImage/blob/master/ch3/result.PNG?raw=true)"
   ]
  },
  {
   "cell_type": "markdown",
   "metadata": {},
   "source": [
    "## 3、高级用法 \n",
    "\n",
    "### 3.1 文件上传"
   ]
  },
  {
   "cell_type": "code",
   "execution_count": null,
   "metadata": {},
   "outputs": [],
   "source": [
    "import requests\n",
    "\n",
    "file = {'file': open('favicon.ico', 'rb')}\n",
    "r = requests.post('http://httpbin.org/post', files=file)\n",
    "print(r.text)"
   ]
  },
  {
   "cell_type": "markdown",
   "metadata": {},
   "source": [
    "### 3.2 Cookies"
   ]
  },
  {
   "cell_type": "code",
   "execution_count": null,
   "metadata": {},
   "outputs": [],
   "source": [
    "import requests\n",
    "\n",
    "r = requests.get('https://www.baidu.com')\n",
    "print(r.cookies)\n",
    "for key, value in r.cookies.items():\n",
    "    print(key + '=' + value)"
   ]
  },
  {
   "cell_type": "code",
   "execution_count": null,
   "metadata": {},
   "outputs": [],
   "source": [
    "# 设置Cookies维持登录\n",
    "import requests\n",
    "\n",
    "headers = {\n",
    "    'Cookie': '_zap=be42a0fe-c3b6-4865-ba6f-287c7706980d; d_c0=\"AAAmr-uMOA-PTmkd9aVdhl-DBvHne5bzFzY=|1554273075\"; __gads=ID=b5d624b70a547e3b:T=1554273077:S=ALNI_MYC0jas_Y-tKGZrXqh_ZSopv6-vkw; l_n_c=1; q_c1=37ed72bcc6334143a4950ba2e2f117d2|1557103524000|1554273076000; _xsrf=9fc851771d2305aae2f03c03df54ecbd; r_cap_id=\"ODY5M2ZjNWFjOTVjNDNjNjg1MmYyMjliZmQxNGFiZDk=|1557103524|e0e3f46829d4a0dee0144b485e969a61a7640d45\"; cap_id=\"YjczNjhkYWU1MDU1NGVhOWJjYTVhODE1YWJiNzQ4MmM=|1557103524|b7f551db75ea040cbf62110dc2cd56b595844422\"; l_cap_id=\"NGZmNGZmNDZiMDk0NDk5MWFmNWQwYWI3NWRhMGI1Mjc=|1557103524|1449412a5b797a3d8974b60076cc34326b908bb3\"; n_c=1; __utma=51854390.1956749130.1557103527.1557103527.1557103527.1; __utmc=51854390; __utmz=51854390.1557103527.1.1.utmcsr=(direct)|utmccn=(direct)|utmcmd=(none); __utmv=51854390.000--|3=entry_date=20190403=1; tgw_l7_route=73af20938a97f63d9b695ad561c4c10c; capsion_ticket=\"2|1:0|10:1557105273|14:capsion_ticket|44:MThhYzVhMTc2NzYyNGVjOWFkMzM5NzNjYTZkMjFhMTA=|abd0b86dfb5bc1c486eb4ff8bdfac533edd687a2a9a6fc52ac46cf945318d7f9\"; z_c0=\"2|1:0|10:1557105331|4:z_c0|92:Mi4xby1HbEF3QUFBQUFBQUNhdjY0dzREeVlBQUFCZ0FsVk5zOWk4WFFCQWFUVVVuVVNTUTJlSkJxNUk1QTNHSFE1MjJ3|9288086a815cfa2013765d36c57945ec12a8f60167f6590c44c98716f8866717\"; unlock_ticket=\"ADDAkVw5ygomAAAAYAJVTbuRz1zw-IX71qI6IcawZAUoaRDhyWQuOg==\"; tst=r; _xsrf=7twvXgoiE4DVP2pCR5OuNUdke7Z4ntD1',\n",
    "    'Host': 'www.zhihu.com',\n",
    "    'User-Agent': 'Mozilla/5.0 (Windows NT 10.0; WOW64) AppleWebKit/537.36 (KHTML, like Gecko) Chrome/74.0.3729.131 Safari/537.36'\n",
    "}\n",
    "\n",
    "r = requests.get('https://www.zhihu.com', headers=headers)\n",
    "print(r.text)\n"
   ]
  },
  {
   "cell_type": "code",
   "execution_count": null,
   "metadata": {},
   "outputs": [],
   "source": [
    "# 第二种方法，构造RequestsCookieJar对象\n",
    "import requests\n",
    "\n",
    "cookies = '_zap=be42a0fe-c3b6-4865-ba6f-287c7706980d; d_c0=\"AAAmr-uMOA-PTmkd9aVdhl-DBvHne5bzFzY=|1554273075\"; __gads=ID=b5d624b70a547e3b:T=1554273077:S=ALNI_MYC0jas_Y-tKGZrXqh_ZSopv6-vkw; l_n_c=1; q_c1=37ed72bcc6334143a4950ba2e2f117d2|1557103524000|1554273076000; _xsrf=9fc851771d2305aae2f03c03df54ecbd; r_cap_id=\"ODY5M2ZjNWFjOTVjNDNjNjg1MmYyMjliZmQxNGFiZDk=|1557103524|e0e3f46829d4a0dee0144b485e969a61a7640d45\"; cap_id=\"YjczNjhkYWU1MDU1NGVhOWJjYTVhODE1YWJiNzQ4MmM=|1557103524|b7f551db75ea040cbf62110dc2cd56b595844422\"; l_cap_id=\"NGZmNGZmNDZiMDk0NDk5MWFmNWQwYWI3NWRhMGI1Mjc=|1557103524|1449412a5b797a3d8974b60076cc34326b908bb3\"; n_c=1; __utma=51854390.1956749130.1557103527.1557103527.1557103527.1; __utmc=51854390; __utmz=51854390.1557103527.1.1.utmcsr=(direct)|utmccn=(direct)|utmcmd=(none); __utmv=51854390.000--|3=entry_date=20190403=1; tgw_l7_route=73af20938a97f63d9b695ad561c4c10c; capsion_ticket=\"2|1:0|10:1557105273|14:capsion_ticket|44:MThhYzVhMTc2NzYyNGVjOWFkMzM5NzNjYTZkMjFhMTA=|abd0b86dfb5bc1c486eb4ff8bdfac533edd687a2a9a6fc52ac46cf945318d7f9\"; z_c0=\"2|1:0|10:1557105331|4:z_c0|92:Mi4xby1HbEF3QUFBQUFBQUNhdjY0dzREeVlBQUFCZ0FsVk5zOWk4WFFCQWFUVVVuVVNTUTJlSkJxNUk1QTNHSFE1MjJ3|9288086a815cfa2013765d36c57945ec12a8f60167f6590c44c98716f8866717\"; unlock_ticket=\"ADDAkVw5ygomAAAAYAJVTbuRz1zw-IX71qI6IcawZAUoaRDhyWQuOg==\"; tst=r; _xsrf=7twvXgoiE4DVP2pCR5OuNUdke7Z4ntD1'\n",
    "jar = requests.cookies.RequestsCookieJar()\n",
    "headers = {\n",
    "     'Host': 'www.zhihu.com',\n",
    "    'User-Agent': 'Mozilla/5.0 (Windows NT 10.0; WOW64) AppleWebKit/537.36 (KHTML, like Gecko) Chrome/74.0.3729.131 Safari/537.36'\n",
    "}\n",
    "for cookie in cookies.split(';'):\n",
    "    # 1为分割一次\n",
    "    key, value = cookie.split('=', 1)\n",
    "    jar.set(key, value)\n",
    "r = requests.get('https://www.zhihu.com', cookies=jar, headers=headers)\n",
    "print(r.text)"
   ]
  },
  {
   "cell_type": "markdown",
   "metadata": {},
   "source": [
    "### 3.3 会话维持\n",
    "\n",
    "使用会话可以避免重复设置Cookies。"
   ]
  },
  {
   "cell_type": "code",
   "execution_count": null,
   "metadata": {},
   "outputs": [],
   "source": [
    "import requests\n",
    "\n",
    "# 不使用Session\n",
    "requests.get('http://httpbin.org/cookies/set/number/1234')\n",
    "r = requests.get('http://httpbin.org/cookies')\n",
    "print(r.text)\n",
    "\n",
    "# 使用Session\n",
    "s = requests.Session()\n",
    "s.get('http://httpbin.org/cookies/set/number/1234')\n",
    "r = s.get('http://httpbin.org/cookies')\n",
    "print(r.text)"
   ]
  },
  {
   "cell_type": "markdown",
   "metadata": {},
   "source": [
    "### 3.4 Prepared Request\n",
    "\n",
    "可以将请求表示为Request对象。"
   ]
  },
  {
   "cell_type": "code",
   "execution_count": null,
   "metadata": {},
   "outputs": [],
   "source": [
    "from requests import Request, Session\n",
    "\n",
    "url = 'http://httpbin.org/post'\n",
    "data = {\n",
    "    'name': 'laowang'\n",
    "}\n",
    "headers = {\n",
    "    'User-Agent': 'Mozilla/5.0 (Windows NT 10.0; WOW64) AppleWebKit/537.36 (KHTML, like Gecko) Chrome/74.0.3729.131 Safari/537.36'\n",
    "}\n",
    "s = Session()\n",
    "req = Request(method='POST', url=url, data=data, headers=headers)\n",
    "prepped = s.prepare_request(req)\n",
    "r = s.send(prepped)\n",
    "print(r.text)"
   ]
  },
  {
   "cell_type": "code",
   "execution_count": null,
   "metadata": {},
   "outputs": [],
   "source": []
  },
  {
   "cell_type": "code",
   "execution_count": null,
   "metadata": {},
   "outputs": [],
   "source": []
  },
  {
   "cell_type": "code",
   "execution_count": null,
   "metadata": {},
   "outputs": [],
   "source": []
  },
  {
   "cell_type": "code",
   "execution_count": null,
   "metadata": {},
   "outputs": [],
   "source": []
  },
  {
   "cell_type": "code",
   "execution_count": null,
   "metadata": {},
   "outputs": [],
   "source": []
  },
  {
   "cell_type": "code",
   "execution_count": null,
   "metadata": {},
   "outputs": [],
   "source": []
  },
  {
   "cell_type": "code",
   "execution_count": null,
   "metadata": {},
   "outputs": [],
   "source": []
  },
  {
   "cell_type": "code",
   "execution_count": null,
   "metadata": {},
   "outputs": [],
   "source": []
  },
  {
   "cell_type": "code",
   "execution_count": null,
   "metadata": {},
   "outputs": [],
   "source": []
  },
  {
   "cell_type": "code",
   "execution_count": null,
   "metadata": {},
   "outputs": [],
   "source": []
  },
  {
   "cell_type": "code",
   "execution_count": null,
   "metadata": {},
   "outputs": [],
   "source": []
  },
  {
   "cell_type": "code",
   "execution_count": null,
   "metadata": {},
   "outputs": [],
   "source": []
  },
  {
   "cell_type": "code",
   "execution_count": null,
   "metadata": {},
   "outputs": [],
   "source": []
  }
 ],
 "metadata": {
  "kernelspec": {
   "display_name": "Python 3",
   "language": "python",
   "name": "python3"
  },
  "language_info": {
   "codemirror_mode": {
    "name": "ipython",
    "version": 3
   },
   "file_extension": ".py",
   "mimetype": "text/x-python",
   "name": "python",
   "nbconvert_exporter": "python",
   "pygments_lexer": "ipython3",
   "version": "3.5.4"
  }
 },
 "nbformat": 4,
 "nbformat_minor": 2
}
