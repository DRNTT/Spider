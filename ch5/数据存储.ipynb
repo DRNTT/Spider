{
 "cells": [
  {
   "cell_type": "markdown",
   "metadata": {},
   "source": [
    "# 数据存储"
   ]
  },
  {
   "cell_type": "markdown",
   "metadata": {},
   "source": [
    "## 1、TXT文件存储\n",
    "\n",
    "### 1.1 打开方式\n",
    "|参数|作用|\n",
    "|--|--|\n",
    "|r|以只读方式打开文件，文件指针放在文件头，默认模式|\n",
    "|rb|以二进制只读方式打开一个文件，文件指针在文件头|\n",
    "|r+|以读写方式打开文件，文件指针在文件头|\n",
    "|rb+|以二进制读写方式打开一个文件，文件指针在文件头|\n",
    "|w|以写入方式打开一个文件，如果文件已存在，则覆盖。若文件不存在，则创建|\n",
    "|wb|以二进制写入方式打开一个文件，如果文件已存在，则覆盖。若文件不存在，则创建|\n",
    "|w+|以读写方式打开一个文件，如果文件已存在，则覆盖。若文件不存在，则创建|\n",
    "|wb+|以二进制读写方式打开一个文件，如果文件已存在，则覆盖。若文件不存在，则创建|\n",
    "|a|以追加方式打开一个文件，如果文件存在，则文件指针在文件尾。如果文件不存在，则创建|\n",
    "|ab|以二进制追加方式打开一个文件，如果文件存在，则文件指针在文件尾。如果文件不存在，则创建|\n",
    "|a+|以读写方式打开一个文件，如果文件存在，则文件指针在文件尾。如果文件不存在，则创建|\n",
    "|ab+|以二进制追加方式打开一个文件，如果文件存在，则文件指针在文件尾。如果文件不存在，则创建|\n",
    "\n",
    "做个总结，r模式是以只读的方式打开文件，w模式是以写入的方式打开文件，而且是从头覆盖写入，a模式是以追加的方式打开文件，是在文件尾追加。这是最基本的三种模式，再加上b为以二进制的方式对文件进行操作，+是以读写的方式进行操作。"
   ]
  },
  {
   "cell_type": "code",
   "execution_count": 1,
   "metadata": {},
   "outputs": [],
   "source": [
    "# 爬取知乎发现页面的热门话题\n",
    "import requests\n",
    "from pyquery import PyQuery as pq\n",
    "\n",
    "url = 'https://www.zhihu.com/explore'\n",
    "headers = {\n",
    "    'User-Agent': 'Mozilla/5.0 (Windows NT 10.0; WOW64) AppleWebKit/537.36 (KHTML, like Gecko) Chrome/74.0.3729.131 Safari/537.36'\n",
    "}\n",
    "html = requests.get(url, headers=headers).text\n",
    "doc = pq(html)\n",
    "items = doc('.explore-feed.feed-item').items()\n",
    "for item in items:\n",
    "    question = item.find('h2').text()\n",
    "    author = item.find('.author-link-line').text()\n",
    "    answer = pq(item.find('.content').html()).text()\n",
    "    with open('explore.txt', 'a', encoding='utf-8') as file:\n",
    "        file.write('\\n'.join([question, author, answer]))\n",
    "        file.write('\\n' + '-' * 50 + '\\n')"
   ]
  },
  {
   "cell_type": "markdown",
   "metadata": {},
   "source": [
    "## 2、JSON文件存储\n",
    "\n",
    "JSON全称为JavaScript Object Notation，为JavaScript对象标记。\n",
    "\n",
    "### 2.1 通过字符串读取JSON\n",
    "使用loads()方法将JSON文本字符串转为JSON对象，通过dumps()方法将JSON对象转为文本字符串。"
   ]
  },
  {
   "cell_type": "code",
   "execution_count": 6,
   "metadata": {},
   "outputs": [
    {
     "name": "stdout",
     "output_type": "stream",
     "text": [
      "<class 'str'>\n",
      "[{'name': 'Bob', 'birthday': '1992-10-18', 'gender': 'male'}, {'name': 'Selina', 'birthday': '1995-10-18', 'gender': 'female'}]\n",
      "<class 'list'>\n",
      "Bob\n",
      "Bob\n",
      "None\n",
      "25\n"
     ]
    }
   ],
   "source": [
    "import json\n",
    "\n",
    "str = '''\n",
    "[{\n",
    "    \"name\": \"Bob\",\n",
    "    \"gender\": \"male\",\n",
    "    \"birthday\": \"1992-10-18\"\n",
    "}, {\n",
    "    \"name\": \"Selina\",\n",
    "    \"gender\": \"female\",\n",
    "    \"birthday\": \"1995-10-18\"\n",
    "}]\n",
    "'''\n",
    "print(type(str))\n",
    "data = json.loads(str)\n",
    "print(data)\n",
    "print(type(data))\n",
    "# 获取元素\n",
    "print(data[0].get('name'))\n",
    "print(data[0]['name'])\n",
    "print(data[0].get('age'))\n",
    "print(data[0].get('age', 25))"
   ]
  },
  {
   "cell_type": "markdown",
   "metadata": {},
   "source": [
    "首先JSON解析字符串时，JSON中的数据必须都是用双引号，而不是单引号。获取数据属性推荐用get,因为当该属性不存在时，不会报错，而是返回None，同时在get的属性后，再传入一个参数，类似于若查找不到该属性，则返回其作为属性的默认值。"
   ]
  },
  {
   "cell_type": "markdown",
   "metadata": {},
   "source": [
    "### 2.2 通过json文件读取json\n",
    "\n",
    "![image](https://github.com/DRNTT/SpiderImage/blob/master/ch5/data%E8%BE%93%E5%85%A5.png?raw=true)"
   ]
  },
  {
   "cell_type": "code",
   "execution_count": 7,
   "metadata": {},
   "outputs": [
    {
     "name": "stdout",
     "output_type": "stream",
     "text": [
      "[{'name': 'Bob', 'birthday': '1992-10-18', 'gender': 'male'}, {'name': 'Selina', 'birthday': '1995-10-18', 'gender': 'female'}]\n"
     ]
    }
   ],
   "source": [
    "# 将上面的字符串存入data.json文件中\n",
    "with open('data.json', 'r') as file:\n",
    "    str = file.read()\n",
    "    data = json.loads(str)\n",
    "    print(data)"
   ]
  },
  {
   "cell_type": "markdown",
   "metadata": {},
   "source": [
    "### 2.3 输出json"
   ]
  },
  {
   "cell_type": "code",
   "execution_count": 12,
   "metadata": {},
   "outputs": [],
   "source": [
    "import json\n",
    "\n",
    "data = [{\n",
    "    'name': 'Bob',\n",
    "    'gender': 'male',\n",
    "    'birthday': '1992-10-18'\n",
    "}]\n",
    "with open('data.json', 'w') as file:\n",
    "    file.write(json.dumps(data))\n",
    "\n",
    "# 缩进保存\n",
    "with open('data_other.json', 'w') as file:\n",
    "    file.write(json.dumps(data, indent=2))\n",
    "    \n",
    "# 数据中含有中文\n",
    "data =  [{\n",
    "    'name': '老王',\n",
    "    'gender': '男',\n",
    "    'birthday': '1992-10-18'\n",
    "}]\n",
    "with open('data_unicode.json', 'w') as file:\n",
    "    file.write(json.dumps(data, indent=2))\n",
    "with open('data_chinese.json', 'w') as file:\n",
    "    file.write(json.dumps(data, indent=2, ensure_ascii=False))"
   ]
  },
  {
   "cell_type": "markdown",
   "metadata": {},
   "source": [
    "![image](https://github.com/DRNTT/SpiderImage/blob/master/ch5/data%E8%BE%93%E5%87%BA.png?raw=true)\n",
    "我们可以看到在数据输入到json文件后，单引号全部都变成了双引号。\n",
    "![image](https://github.com/DRNTT/SpiderImage/blob/master/ch5/%E8%87%AA%E5%8A%A8%E7%BC%A9%E8%BF%9B.png?raw=true)\n",
    "在使用indent=2后，会使json保存数据时，按缩进的格式保存。\n",
    "![image](https://github.com/DRNTT/SpiderImage/blob/master/ch5/Unicode.png?raw=true)\n",
    "当JSON数据中含有中文，直接保存时，文件中会以unicode编码的方式保存。\n",
    "![image](https://github.com/DRNTT/SpiderImage/blob/master/ch5/chinese.png?raw=true)\n",
    "使用ensure_ascii=False后，文件中才会正确的显示中文。"
   ]
  },
  {
   "cell_type": "markdown",
   "metadata": {},
   "source": [
    "## 3、CSV文件存储\n",
    "\n",
    "CSV全称为Comma-Serparated Values，叫做逗号分隔值或字符分隔值，以纯文本形式存储数据。\n",
    "### 3.1 CSV写入"
   ]
  },
  {
   "cell_type": "code",
   "execution_count": 19,
   "metadata": {},
   "outputs": [],
   "source": [
    "import csv\n",
    "\n",
    "with open('data.csv', 'w') as csvfile:\n",
    "    writer = csv.writer(csvfile)\n",
    "    writer.writerow(['id', 'name', 'age'])\n",
    "    writer.writerow(['10001', 'Mike', 20])\n",
    "    writer.writerow(['10002', 'Bob', 22])\n",
    "    writer.writerow(['10003', 'Jordan', 21])\n",
    "\n",
    "# 通过设置delimiter，将分隔符改为指定字符\n",
    "# 通过writerows一次写入多行\n",
    "with open('data_delimiter.csv', 'w') as csvfile:\n",
    "    writer = csv.writer(csvfile, delimiter=' ')\n",
    "    writer.writerow(['id', 'name', 'age'])\n",
    "    writer.writerows([['10001', 'Mike', 20], ['10002', 'Bob', 22], ['10003', 'Jordan', 21]])\n",
    "\n",
    "# 去除空行\n",
    "with open('data_newline.csv', 'w', newline='') as csvfile:\n",
    "    writer = csv.writer(csvfile)\n",
    "    writer.writerow(['id', 'name', 'age'])\n",
    "    writer.writerow(['10001', 'Mike', 20])\n",
    "    writer.writerow(['10002', 'Bob', 22])\n",
    "    writer.writerow(['10003', 'Jordan', 21])\n",
    "    \n",
    "# 使用字典写入\n",
    "with open('data_dict.csv', 'w') as csvfile:\n",
    "    fieldnames = ['id', 'name', 'age']\n",
    "    writer = csv.DictWriter(csvfile, fieldnames=fieldnames)\n",
    "    writer.writeheader()\n",
    "    writer.writerow({'id': '10001', 'name': 'Mike', 'age': 20})\n",
    "    writer.writerow({'id': '10002', 'name': 'Bob', 'age': 22})\n",
    "    writer.writerow({'id': '10003', 'name': 'Jordan', 'age': 21})"
   ]
  },
  {
   "cell_type": "markdown",
   "metadata": {},
   "source": [
    "writerow()方法即可写入一行数据。<br>\n",
    "用txt文件打开：\n",
    "![image](https://github.com/DRNTT/SpiderImage/blob/master/ch5/%E6%96%87%E6%9C%AC%E5%BD%A2%E5%BC%8Fcsv.png?raw=true)\n",
    "设置delimiter后，将逗号分隔符改为空格:\n",
    "![image](https://github.com/DRNTT/SpiderImage/blob/master/ch5/delimiter.png?raw=true)\n",
    "用excel文件打开data.csv：\n",
    "![image](https://github.com/DRNTT/SpiderImage/blob/master/ch5/excel%E6%9C%89%E7%A9%BA%E8%A1%8C.png?raw=true)\n",
    "但是存在空行，所以应该在open()时添加newline=''，这样就可以在写入文件时，避免空行。\n",
    "![image](https://github.com/DRNTT/SpiderImage/blob/master/ch5/excel%E6%97%A0%E7%A9%BA%E8%A1%8C.png?raw=true)\n",
    "使用字典写入后的文件：\n",
    "![image](https://github.com/DRNTT/SpiderImage/blob/master/ch5/%E6%96%87%E6%9C%AC%E5%BD%A2%E5%BC%8Fcsv.png?raw=true)"
   ]
  },
  {
   "cell_type": "markdown",
   "metadata": {},
   "source": [
    "### 3.2 CSV读取"
   ]
  },
  {
   "cell_type": "code",
   "execution_count": 21,
   "metadata": {},
   "outputs": [
    {
     "name": "stdout",
     "output_type": "stream",
     "text": [
      "['id', 'name', 'age']\n",
      "['10001', 'Mike', '20']\n",
      "['10002', 'Bob', '22']\n",
      "['10003', 'Jordan', '21']\n"
     ]
    }
   ],
   "source": [
    "import csv\n",
    "\n",
    "with open('data_newline.csv', 'r') as csvfile:\n",
    "    reader = csv.reader(csvfile)\n",
    "    for row in reader:\n",
    "        print(row)"
   ]
  },
  {
   "cell_type": "markdown",
   "metadata": {},
   "source": [
    "## 4、MySQL"
   ]
  },
  {
   "cell_type": "code",
   "execution_count": 25,
   "metadata": {},
   "outputs": [
    {
     "name": "stdout",
     "output_type": "stream",
     "text": [
      "Database version: ('8.0.13',)\n"
     ]
    }
   ],
   "source": [
    "import pymysql\n",
    "\n",
    "db = pymysql.connect(host='localhost', user='root', password='password', port=3306)\n",
    "cursor = db.cursor()\n",
    "cursor.execute('SELECT VERSION()')\n",
    "data = cursor.fetchone()\n",
    "print('Database version:', data)\n",
    "cursor.execute('CREATE DATABASE spiders DEFAULT CHARACTER SET utf8mb4')\n",
    "db.close()"
   ]
  },
  {
   "cell_type": "markdown",
   "metadata": {},
   "source": [
    "通过connect()方法获取连接对象，需要传入host,即IP,因为是本机，所以使用localhost，user为用户名，password为密码，port为端口，默认为3306。<br>\n",
    "连接成功后，使用cursor()方法获得MySQL操作游标，利用游标执行SQL语句。<br>\n",
    "使用execute()方法执行SQL语句，使用fetchone()方法获取第一条数据。"
   ]
  },
  {
   "cell_type": "markdown",
   "metadata": {},
   "source": [
    "### 4.1 创建表"
   ]
  },
  {
   "cell_type": "code",
   "execution_count": 31,
   "metadata": {},
   "outputs": [],
   "source": [
    "import pymysql\n",
    "\n",
    "db = pymysql.connect(host='localhost', user='root', password='password', port=3306, db='spiders')\n",
    "cursor = db.cursor()\n",
    "# 创建表\n",
    "sql = 'create table if not exists students (id varchar(255) not null, name varchar(255) not null, age int not null, primary key(id))'\n",
    "cursor.execute(sql)\n",
    "db.close()"
   ]
  },
  {
   "cell_type": "markdown",
   "metadata": {},
   "source": [
    "### 4.2 插入数据"
   ]
  },
  {
   "cell_type": "code",
   "execution_count": 42,
   "metadata": {},
   "outputs": [
    {
     "name": "stdout",
     "output_type": "stream",
     "text": [
      "Successful\n"
     ]
    }
   ],
   "source": [
    "import pymysql\n",
    "\n",
    "db = pymysql.connect(host='localhost', user='root', password='password', port=3306, db='spiders')\n",
    "cursor = db.cursor()\n",
    "\n",
    "# 插入数据\n",
    "id = '201200002'\n",
    "name = 'Bob'\n",
    "age = 20\n",
    "sql = 'insert into students(id, name, age) values(%s, %s, %s)'\n",
    "try:\n",
    "    cursor.execute(sql, (id, name, age))\n",
    "    db.commit()\n",
    "except:\n",
    "    db.rollback()\n",
    "\n",
    "# 使用字典结构，动态插入数据\n",
    "data = {\n",
    "    'id': '33',\n",
    "    'name': 'Bob',\n",
    "    'age': 20\n",
    "}\n",
    "table = 'students'\n",
    "keys = ','.join(data.keys())\n",
    "values = ','.join(['%s'] * len(data))\n",
    "sql = 'insert into {table} ({keys}) values ({values})'.format(table=table, keys=keys, values=values)\n",
    "try:\n",
    "    if cursor.execute(sql, tuple(data.values())):\n",
    "        print('Successful')\n",
    "        db.commit()\n",
    "except:\n",
    "    print('Falied')\n",
    "    db.rollback()\n",
    "db.close()"
   ]
  },
  {
   "cell_type": "markdown",
   "metadata": {},
   "source": [
    "**对于数据的插入、更新、删除工作都需要记得调用db对象的commit()方法才能生效。** <br>\n",
    "rollback()执行数据回滚操作。"
   ]
  },
  {
   "cell_type": "markdown",
   "metadata": {},
   "source": [
    "### 4.3 更新数据"
   ]
  },
  {
   "cell_type": "code",
   "execution_count": 39,
   "metadata": {},
   "outputs": [
    {
     "name": "stdout",
     "output_type": "stream",
     "text": [
      "Successful\n"
     ]
    }
   ],
   "source": [
    "import pymysql\n",
    "\n",
    "db = pymysql.connect(host='localhost', user='root', password='password', port=3306, db='spiders')\n",
    "cursor = db.cursor()\n",
    "\n",
    "# 更新数据\n",
    "sql = 'update students set age = %s where name = %s'\n",
    "try:\n",
    "    cursor.execute(sql, (30, 'Bob'))\n",
    "    db.commit()\n",
    "except:\n",
    "    db.rollback()\n",
    "\n",
    "# 避免添加重复的数据\n",
    "data = {\n",
    "    'id': '33',\n",
    "    'name': 'Bob',\n",
    "    'age': 21\n",
    "}\n",
    "table = 'students'\n",
    "keys = ','.join(data.keys())\n",
    "values = ','.join(['%s'] * len(data))\n",
    "\n",
    "sql = 'insert into {table} ({keys}) values ({values}) on duplicate key update'.format(table=table, keys=keys, values=values)\n",
    "update = ','.join([\" {key} = %s\".format(key=key) for key in data])\n",
    "sql += update\n",
    "try:\n",
    "    if cursor.execute(sql, tuple(data.values()) * 2):\n",
    "        print('Successful')\n",
    "        db.commit()\n",
    "except:\n",
    "    print('Faild')\n",
    "    db.rollback()\n",
    "db.close()"
   ]
  },
  {
   "cell_type": "markdown",
   "metadata": {},
   "source": [
    "使用**on duplicate key update**的意思是：如果该主键已经存在，则该插入语句会变为更新操作。"
   ]
  },
  {
   "cell_type": "markdown",
   "metadata": {},
   "source": [
    "### 4.4 删除数据"
   ]
  },
  {
   "cell_type": "code",
   "execution_count": 41,
   "metadata": {},
   "outputs": [],
   "source": [
    "import pymysql\n",
    "\n",
    "db = pymysql.connect(host='localhost', user='root', password='password', port=3306, db='spiders')\n",
    "cursor = db.cursor()\n",
    "\n",
    "table = 'students'\n",
    "condition = 'age > 20'\n",
    "\n",
    "sql = 'delete from {table} where {condition}'.format(table=table, condition=condition)\n",
    "try:\n",
    "    cursor.execute(sql)\n",
    "    db.commit()\n",
    "except:\n",
    "    db.rollback()\n",
    "db.close()"
   ]
  },
  {
   "cell_type": "markdown",
   "metadata": {},
   "source": [
    "### 4.5 查询数据"
   ]
  },
  {
   "cell_type": "code",
   "execution_count": 46,
   "metadata": {},
   "outputs": [
    {
     "name": "stdout",
     "output_type": "stream",
     "text": [
      "Count: 2\n",
      "first: ('201200002', 'Bob', 20)\n",
      "Result: (('33', 'Bob', 20),)\n",
      "Result type: <class 'tuple'>\n",
      "('33', 'Bob', 20)\n"
     ]
    }
   ],
   "source": [
    "import pymysql\n",
    "\n",
    "db = pymysql.connect(host='localhost', user='root', password='password', port=3306, db='spiders')\n",
    "cursor = db.cursor()\n",
    "\n",
    "sql = 'select * from students'\n",
    "try:\n",
    "    cursor.execute(sql)\n",
    "    print('Count:', cursor.rowcount)\n",
    "    first = cursor.fetchone()\n",
    "    print('first:', first)\n",
    "    results = cursor.fetchall()\n",
    "    print('Result:', results)\n",
    "    print('Result type:', type(results))\n",
    "    for row in results:\n",
    "        print(row)\n",
    "except:\n",
    "    print('Error')"
   ]
  },
  {
   "cell_type": "markdown",
   "metadata": {},
   "source": [
    "这里需要注意的是，一共有记录的条数为2，但是fetchall()方法只获取到了一条，是因为获取数据时，内部有一个偏移指针来指向查询结果，在fetchone()后，指针就指向了第二条数据，所以fetchall()只获取到了一条数据，并且返回的数据类型是元组。"
   ]
  }
 ],
 "metadata": {
  "kernelspec": {
   "display_name": "Python 3",
   "language": "python",
   "name": "python3"
  },
  "language_info": {
   "codemirror_mode": {
    "name": "ipython",
    "version": 3
   },
   "file_extension": ".py",
   "mimetype": "text/x-python",
   "name": "python",
   "nbconvert_exporter": "python",
   "pygments_lexer": "ipython3",
   "version": "3.5.4"
  }
 },
 "nbformat": 4,
 "nbformat_minor": 2
}
