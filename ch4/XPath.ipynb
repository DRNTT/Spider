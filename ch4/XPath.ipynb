{
 "cells": [
  {
   "cell_type": "markdown",
   "metadata": {},
   "source": [
    "# XPath"
   ]
  },
  {
   "cell_type": "markdown",
   "metadata": {},
   "source": [
    "## 1、XPath常用规则\n",
    "\n",
    "![image](https://github.com/DRNTT/SpiderImage/blob/master/ch4/XPath%E5%B8%B8%E7%94%A8%E8%A7%84%E5%88%99.png?raw=true)"
   ]
  },
  {
   "cell_type": "code",
   "execution_count": null,
   "metadata": {},
   "outputs": [],
   "source": [
    "from lxml import etree\n",
    "\n",
    "text = '''\n",
    "<div>\n",
    "<ul>\n",
    "<li class=\"item-0\"><a href=\"link1.html\">first item</a></li>\n",
    "<li class=\"item-1\"><a href=\"link2.html\">second item</a></li>\n",
    "<li class=\"item-inactive\"><a href=\"link3.html\">third item</a></li>\n",
    "<li class=\"item-1\"><a href=\"link4.html\">fourth item</a></li>\n",
    "<li class=\"item-0\"><a href=\"link5.html\">fifth item</a>\n",
    "</ul>\n",
    "</div>\n",
    "'''\n",
    "html = etree.HTML(text)\n",
    "# 也可以通过文件来进行解析。\n",
    "# html = etree.parse('./test.html', etree.HTMLParser())\n",
    "result = etree.tostring(html)\n",
    "print(type(result))\n",
    "print(result.decode('utf-8'))"
   ]
  },
  {
   "cell_type": "markdown",
   "metadata": {},
   "source": [
    "到这里发现,result的类型是bytes，需要使用decode()方法转为string类型。\n",
    "<br>同时,上面文本中最后缺少的</li>标签，被成功的补上，因此etree模块可以自动的修正HTML文本。"
   ]
  },
  {
   "cell_type": "markdown",
   "metadata": {},
   "source": [
    "## 1.1获取所有节点"
   ]
  },
  {
   "cell_type": "code",
   "execution_count": null,
   "metadata": {},
   "outputs": [],
   "source": [
    "from lxml import etree\n",
    "\n",
    "text = '''\n",
    "<div>\n",
    "<ul>\n",
    "<li class=\"item-0\"><a href=\"link1.html\">first item</a></li>\n",
    "<li class=\"item-1\"><a href=\"link2.html\">second item</a></li>\n",
    "<li class=\"item-inactive\"><a href=\"link3.html\">third item</a></li>\n",
    "<li class=\"item-1\"><a href=\"link4.html\">fourth item</a></li>\n",
    "<li class=\"item-0\"><a href=\"link5.html\">fifth item</a>\n",
    "</ul>\n",
    "</div>\n",
    "'''\n",
    "html = etree.HTML(text)\n",
    "result = html.xpath('//*')\n",
    "print(result)\n",
    "\n",
    "# 同样可以获取指定的所有节点\n",
    "result2 = html.xpath('//li')\n",
    "print(result2)"
   ]
  },
  {
   "cell_type": "markdown",
   "metadata": {},
   "source": [
    "## 1.2 获取子节点"
   ]
  },
  {
   "cell_type": "code",
   "execution_count": null,
   "metadata": {},
   "outputs": [],
   "source": [
    "from lxml import etree\n",
    "\n",
    "text = '''\n",
    "<div>\n",
    "<ul>\n",
    "<li class=\"item-0\"><a href=\"link1.html\">first item</a></li>\n",
    "<li class=\"item-1\"><a href=\"link2.html\">second item</a></li>\n",
    "<li class=\"item-inactive\"><a href=\"link3.html\">third item</a></li>\n",
    "<li class=\"item-1\"><a href=\"link4.html\">fourth item</a></li>\n",
    "<li class=\"item-0\"><a href=\"link5.html\">fifth item</a>\n",
    "</ul>\n",
    "</div>\n",
    "'''\n",
    "\n",
    "# 获取直接子节点\n",
    "result = html.xpath('//li/a')\n",
    "print(result)\n",
    "\n",
    "# 获取直接子节点\n",
    "result2 = html.xpath('//ul/a')\n",
    "print(result2)\n",
    "\n",
    "# 获取所有子孙\n",
    "result3 = html.xpath('//ul//a')\n",
    "print(result3)"
   ]
  },
  {
   "cell_type": "markdown",
   "metadata": {},
   "source": [
    "这里需要注意下是获取直接子节点，还是子孙节点。<br>\n",
    "ul的直接子节点为li，所以//ul/a不能获取到任何节点。需要改为//ul//a获取所有的子孙节点。"
   ]
  },
  {
   "cell_type": "markdown",
   "metadata": {},
   "source": [
    "## 1.3 获取父节点"
   ]
  },
  {
   "cell_type": "code",
   "execution_count": null,
   "metadata": {},
   "outputs": [],
   "source": [
    "from lxml import etree\n",
    "\n",
    "text = '''\n",
    "<div>\n",
    "<ul>\n",
    "<li class=\"item-0\"><a href=\"link1.html\">first item</a></li>\n",
    "<li class=\"item-1\"><a href=\"link2.html\">second item</a></li>\n",
    "<li class=\"item-inactive\"><a href=\"link3.html\">third item</a></li>\n",
    "<li class=\"item-1\"><a href=\"link4.html\">fourth item</a></li>\n",
    "<li class=\"item-0\"><a href=\"link5.html\">fifth item</a>\n",
    "</ul>\n",
    "</div>\n",
    "'''\n",
    "\n",
    "html = etree.HTML(text)\n",
    "# 选择a节点并且该节点的href属性为link4.html，选取该节点的父节点，返回class属性值\n",
    "result = html.xpath('//a[@href=\"link4.html\"]/../@class')\n",
    "# result = html.xpath('//a[@href=\"link4.html\"]/parent::*/@class')\n",
    "print(result)"
   ]
  },
  {
   "cell_type": "markdown",
   "metadata": {},
   "source": [
    "## 1.4 文本获取"
   ]
  },
  {
   "cell_type": "code",
   "execution_count": null,
   "metadata": {},
   "outputs": [],
   "source": [
    "from lxml import etree\n",
    "\n",
    "text = '''\n",
    "<div>\n",
    "<ul>\n",
    "<li class=\"item-0\"><a href=\"link1.html\">first item</a></li>\n",
    "<li class=\"item-1\"><a href=\"link2.html\">second item</a></li>\n",
    "<li class=\"item-inactive\"><a href=\"link3.html\">third item</a></li>\n",
    "<li class=\"item-1\"><a href=\"link4.html\">fourth item</a></li>\n",
    "<li class=\"item-0\"><a href=\"link5.html\">fifth item</a>\n",
    "</ul>\n",
    "</div>\n",
    "'''\n",
    "\n",
    "# 错误获取\n",
    "result0 = html.xpath('//li[@class=\"item-0\"]/text()')\n",
    "print(result0)\n",
    "\n",
    "html = etree.HTML(text)\n",
    "# 第一种选取到a节点，再获取文本\n",
    "result = html.xpath('//li[@class=\"item-0\"]/a/text()')\n",
    "print(result)\n",
    "\n",
    "# 第二种使用//\n",
    "result2 = html.xpath('//li[@class=\"item-0\"]//text()')\n",
    "print(result2)"
   ]
  },
  {
   "cell_type": "markdown",
   "metadata": {},
   "source": [
    "第一次的错误获取，是因为获取的本文li标签内的内容，即</a>与</li>之间的内容，因为最后一次etree模块自动修正了</li>，所以获取了一个\\n。<br>\n",
    "正确的第一次获取是选中了相应的a标签，从而获取其中的文本。<br>\n",
    "第二次获取是选择li标签的所有子孙节点内的文本。<br>"
   ]
  },
  {
   "cell_type": "markdown",
   "metadata": {},
   "source": [
    "## 1.5 属性获取"
   ]
  },
  {
   "cell_type": "code",
   "execution_count": null,
   "metadata": {},
   "outputs": [],
   "source": [
    "from lxml import etree\n",
    "\n",
    "text = '''\n",
    "<div>\n",
    "<ul>\n",
    "<li class=\"item-0\"><a href=\"link1.html\">first item</a></li>\n",
    "<li class=\"item-1\"><a href=\"link2.html\">second item</a></li>\n",
    "<li class=\"item-inactive\"><a href=\"link3.html\">third item</a></li>\n",
    "<li class=\"item-1\"><a href=\"link4.html\">fourth item</a></li>\n",
    "<li class=\"item-0\"><a href=\"link5.html\">fifth item</a>\n",
    "</ul>\n",
    "</div>\n",
    "'''\n",
    "\n",
    "html = etree.HTML(text)\n",
    "# 获取li便签的class属性\n",
    "result = html.xpath('//li/@class')\n",
    "print(result)"
   ]
  },
  {
   "cell_type": "markdown",
   "metadata": {},
   "source": [
    "## 1.6 属性多值匹配"
   ]
  },
  {
   "cell_type": "code",
   "execution_count": null,
   "metadata": {},
   "outputs": [],
   "source": [
    "from lxml import etree\n",
    "\n",
    "text = '''\n",
    "<div>\n",
    "<ul>\n",
    "<li class=\"item-0 li li-first\"><a href=\"link1.html\">first item</a></li>\n",
    "<li class=\"item-1\"><a href=\"link2.html\">second item</a></li>\n",
    "<li class=\"item-inactive\"><a href=\"link3.html\">third item</a></li>\n",
    "<li class=\"item-1\"><a href=\"link4.html\">fourth item</a></li>\n",
    "<li class=\"item-0\"><a href=\"link5.html\">fifth item</a>\n",
    "</ul>\n",
    "</div>\n",
    "'''\n",
    "\n",
    "html = etree.HTML(text)\n",
    "# 这里使用前先的匹配是获取不到结果。\n",
    "result = html.xpath('//li[@class=\"item-0\"]/a/text()')\n",
    "print(result)\n",
    "\n",
    "# contains()函数\n",
    "result1 = html.xpath('//li[contains(@class, \"item-0\")]/a/text()')\n",
    "print(result1)"
   ]
  },
  {
   "cell_type": "markdown",
   "metadata": {},
   "source": [
    "这里是一个属性含有多个值，使用contains()函数，与下面的多属性匹配不同。"
   ]
  },
  {
   "cell_type": "markdown",
   "metadata": {},
   "source": [
    "## 1.7 多属性匹配"
   ]
  },
  {
   "cell_type": "code",
   "execution_count": null,
   "metadata": {},
   "outputs": [],
   "source": [
    "from lxml import etree\n",
    "\n",
    "text = '''\n",
    "<div>\n",
    "<ul>\n",
    "<li class=\"item-0\" name=\"laowang\"><a href=\"link1.html\">first item</a></li>\n",
    "<li class=\"item-1\"><a href=\"link2.html\">second item</a></li>\n",
    "<li class=\"item-inactive\"><a href=\"link3.html\">third item</a></li>\n",
    "<li class=\"item-1\"><a href=\"link4.html\">fourth item</a></li>\n",
    "<li class=\"item-0\"><a href=\"link5.html\">fifth item</a>\n",
    "</ul>\n",
    "</div>\n",
    "'''\n",
    "\n",
    "html = etree.HTML(text)\n",
    "result = html.xpath('//li[@class=\"item-0\" and @name=\"laowang\"]/a/text()')\n",
    "print(result)"
   ]
  },
  {
   "cell_type": "markdown",
   "metadata": {},
   "source": [
    "这里涉及操作符and, 该节点需要满足两个属性值才可以。<br>\n",
    "运算符及其介绍如下。\n",
    "![image](https://github.com/DRNTT/SpiderImage/blob/master/ch4/operator.PNG?raw=true)"
   ]
  },
  {
   "cell_type": "markdown",
   "metadata": {},
   "source": [
    "## 1.8 按序选择"
   ]
  },
  {
   "cell_type": "code",
   "execution_count": null,
   "metadata": {},
   "outputs": [],
   "source": [
    "from lxml import etree\n",
    "\n",
    "text = '''\n",
    "<div>\n",
    "<ul>\n",
    "<li class=\"item-0\" name=\"laowang\"><a href=\"link1.html\">first item</a></li>\n",
    "<li class=\"item-1\"><a href=\"link2.html\">second item</a></li>\n",
    "<li class=\"item-inactive\"><a href=\"link3.html\">third item</a></li>\n",
    "<li class=\"item-1\"><a href=\"link4.html\">fourth item</a></li>\n",
    "<li class=\"item-0\"><a href=\"link5.html\">fifth item</a>\n",
    "</ul>\n",
    "</div>\n",
    "'''\n",
    "\n",
    "html = etree.HTML(text)\n",
    "result1 = html.xpath('//li[1]/a/text()')\n",
    "print(result1)\n",
    "result2 = html.xpath('//li[last()]/a/text()')\n",
    "print(result2)\n",
    "result3 = html.xpath('//li[position()<3]/a/text()')\n",
    "print(result3)\n",
    "result4 = html.xpath('//li[last()-2]/a/text()')\n",
    "print(result4)"
   ]
  },
  {
   "cell_type": "markdown",
   "metadata": {},
   "source": [
    "注意这里的下标从1开始，并不是从0。"
   ]
  },
  {
   "cell_type": "markdown",
   "metadata": {},
   "source": [
    "## 1.9 节点轴选取"
   ]
  },
  {
   "cell_type": "code",
   "execution_count": null,
   "metadata": {},
   "outputs": [],
   "source": [
    "from lxml import etree\n",
    "\n",
    "text = '''\n",
    "<div>\n",
    "<ul class='ul'>\n",
    "<li class=\"item-0\" name=\"laowang\"><a href=\"link1.html\"><span>first item</span></a></li>\n",
    "<li class=\"item-1\"><a href=\"link2.html\">second item</a></li>\n",
    "<li class=\"item-inactive\"><a href=\"link3.html\">third item</a></li>\n",
    "<li class=\"item-1\"><a href=\"link4.html\">fourth item</a></li>\n",
    "<li class=\"item-0\"><a href=\"link5.html\">fifth item</a>\n",
    "</ul>\n",
    "</div>\n",
    "'''\n",
    "\n",
    "html = etree.HTML(text)\n",
    "result1 = html.xpath('//li[1]/ancestor::*')\n",
    "print(result1)\n",
    "result2 = html.xpath('//li[1]/ancestor::div')\n",
    "print(result2)\n",
    "result3 = html.xpath('//li[1]/attribute::*')\n",
    "print(result3)\n",
    "result4 = html.xpath('//li[1]/child::a[@href=\"link1.html\"]')\n",
    "print(result4)\n",
    "result5 = html.xpath('//li[1]/descendant::span')\n",
    "print(result5)\n",
    "result6 = html.xpath('//li[1]//following::*[2]')\n",
    "print(result6)\n",
    "result7 = html.xpath('//li[1]//following-sibling::*')\n",
    "print(result7)"
   ]
  },
  {
   "cell_type": "markdown",
   "metadata": {},
   "source": [
    "第一次选择使用**ancesotor**轴，获取所有的祖先节点。需要使用两个冒号，节点选择器采用\\*，表示匹配所有节点。<br>\n",
    "第二次选择为匹配祖先节点的div节点。<br>\n",
    "第三次选择为**attribute**轴，可以获取属性值，\\*表示获取所有属性值。<br>\n",
    "第四次选择为**child**轴，可以获取所有直接子节点。<br>\n",
    "第五次选择为**descendant**轴，可以获取所有子孙节点,span为限制条件，获取span节点。<br>\n",
    "第六次选择为**following**轴，获取当前节点之后的所有节点。数字2为第二个后续节点。<br>\n",
    "第七次使用**following-sibling**轴，获取当前节点之后的所有同级节点。"
   ]
  },
  {
   "cell_type": "code",
   "execution_count": null,
   "metadata": {},
   "outputs": [],
   "source": []
  },
  {
   "cell_type": "code",
   "execution_count": null,
   "metadata": {},
   "outputs": [],
   "source": []
  },
  {
   "cell_type": "code",
   "execution_count": null,
   "metadata": {},
   "outputs": [],
   "source": []
  },
  {
   "cell_type": "code",
   "execution_count": null,
   "metadata": {},
   "outputs": [],
   "source": []
  },
  {
   "cell_type": "code",
   "execution_count": null,
   "metadata": {},
   "outputs": [],
   "source": []
  },
  {
   "cell_type": "code",
   "execution_count": null,
   "metadata": {},
   "outputs": [],
   "source": []
  },
  {
   "cell_type": "code",
   "execution_count": null,
   "metadata": {},
   "outputs": [],
   "source": []
  },
  {
   "cell_type": "code",
   "execution_count": null,
   "metadata": {},
   "outputs": [],
   "source": []
  }
 ],
 "metadata": {
  "kernelspec": {
   "display_name": "Python 3",
   "language": "python",
   "name": "python3"
  },
  "language_info": {
   "codemirror_mode": {
    "name": "ipython",
    "version": 3
   },
   "file_extension": ".py",
   "mimetype": "text/x-python",
   "name": "python",
   "nbconvert_exporter": "python",
   "pygments_lexer": "ipython3",
   "version": "3.5.4"
  }
 },
 "nbformat": 4,
 "nbformat_minor": 2
}
