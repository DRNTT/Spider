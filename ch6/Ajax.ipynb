{
 "cells": [
  {
   "cell_type": "markdown",
   "metadata": {},
   "source": [
    "# Ajax\n",
    "\n",
    "Ajax全称为Asynochronous JavaScript and XML, 即异步的JavaScript和XML。它不是一门编程语言，而是利用JavaScript在保证页面不被刷新、页面连接不被改变的情况下与服务器交换数据并更新部分网页的技术。"
   ]
  },
  {
   "cell_type": "markdown",
   "metadata": {},
   "source": [
    "## 1、基本原理\n",
    "\n",
    "发送Ajax请求到网页更新的过程可以简单分为以下3步：<br>\n",
    "（一）发送请求<br>\n",
    "（二）解析内容<br>\n",
    "（三）渲染网页<br>\n",
    "<br>\n",
    "（一）发送请求<br>\n",
    "我们知道 JavaScript 可以实现页丽的各种交互功能， Ajax也不例外，它也是由 JavaScript实现的， 实际上执行了如下代码：<br>\n",
    "var xmlhttp; if (window.XMLHttpRequest) {<br>\n",
    "     // code for IE7+, Firefox, Chrome, Opera, Safari <br>\n",
    "     xmlhttp=new XMLHttpRequest();<br>\n",
    " } <br>\n",
    " else {<br>\n",
    "     // code for IE6, IES <br>\n",
    "     xmlhttp=new ActiveXObject (”Microsoft.XMLHTTP”)<br>\n",
    " }; <br>\n",
    "<br>\n",
    "xmlhttp. onreadystatechange=function() { <br>\n",
    "    if (xmlhttp.ready5tate==4 && xmlhttp.status==200) { <br>\n",
    "        document.getElementByld（”myDiv”）.innerHTML=xmlhttp.responseText;<br>\n",
    "    }<br>\n",
    "}<br>\n",
    "xmlhttp.open(\"POST”,\"/ajax/”,true); <br>\n",
    "xmlhttp.send(); <br>\n",
    "这是 JavaScript 对 Ajax 最底层的实现，实际上就是新建了 XMLHttpRequest 对象，然后调用 onreadystatechange 属性设置了监昕，然后调用 open（）和 send（）方法向某个链接（也就是服务器 ） 发 送了请求。 前面用 Python 实现请求发送之后，可以得到响应结果，但这里请求的发送变成 JavaScript 来完成。 由于设置了监听，所以当服务器返回响应时， onreadystatechange 对应的方法便会被触发， 然后在这个方法里面解析响应内容即可。<br><br>\n",
    "（二）解析内容 <br>\n",
    "得到响应之后， onreadystatechange 属性对应的方法便会被触发，此时利用 xmlhttp 的 response Text 属性便可取到响应内容。 这类似于 Python 中利用 requests 向服务器发起请求，然后得到 响应的过程。 那么返回内容可能是 HTML，可能是 JSON，接下来只需要在方法中用 JavaScript进一步 处理即可。 比如，如果是 JSON 的话，可以进行解析和转化。<br><br>\n",
    "（三）渲染网页<br>\n",
    "JavaScr刷有改变网页内容的能力，解析完响应内容之后，就可以调用 JavaScript来针对解析完的 内容对网页进行下一步处理了。 比如，通过 document.getElementBId().innerHTML 这样的操作，便可 以对某个元素内的源代码进行更改，这样网页显示的内容就改变了，这样的操作也被称作 DOM操作， 即对 Document 网页文档进行操作，如更改、删除等。"
   ]
  },
  {
   "cell_type": "code",
   "execution_count": null,
   "metadata": {},
   "outputs": [],
   "source": []
  },
  {
   "cell_type": "code",
   "execution_count": null,
   "metadata": {},
   "outputs": [],
   "source": []
  },
  {
   "cell_type": "code",
   "execution_count": null,
   "metadata": {},
   "outputs": [],
   "source": []
  },
  {
   "cell_type": "code",
   "execution_count": null,
   "metadata": {},
   "outputs": [],
   "source": []
  },
  {
   "cell_type": "code",
   "execution_count": null,
   "metadata": {},
   "outputs": [],
   "source": []
  },
  {
   "cell_type": "code",
   "execution_count": null,
   "metadata": {},
   "outputs": [],
   "source": []
  },
  {
   "cell_type": "code",
   "execution_count": null,
   "metadata": {},
   "outputs": [],
   "source": []
  },
  {
   "cell_type": "code",
   "execution_count": null,
   "metadata": {},
   "outputs": [],
   "source": []
  },
  {
   "cell_type": "code",
   "execution_count": null,
   "metadata": {},
   "outputs": [],
   "source": []
  },
  {
   "cell_type": "code",
   "execution_count": null,
   "metadata": {},
   "outputs": [],
   "source": []
  },
  {
   "cell_type": "code",
   "execution_count": null,
   "metadata": {},
   "outputs": [],
   "source": []
  }
 ],
 "metadata": {
  "kernelspec": {
   "display_name": "Python 3",
   "language": "python",
   "name": "python3"
  },
  "language_info": {
   "codemirror_mode": {
    "name": "ipython",
    "version": 3
   },
   "file_extension": ".py",
   "mimetype": "text/x-python",
   "name": "python",
   "nbconvert_exporter": "python",
   "pygments_lexer": "ipython3",
   "version": "3.5.4"
  }
 },
 "nbformat": 4,
 "nbformat_minor": 2
}
